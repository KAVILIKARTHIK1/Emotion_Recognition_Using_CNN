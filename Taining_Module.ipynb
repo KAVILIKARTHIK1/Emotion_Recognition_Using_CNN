from google.colab import drive
drive.mount('/content/drive')
!pip install tensorflow
!pip install keras


import keras
from keras.preprocessing.image import ImageDataGenerator
from keras.models import Sequential
from keras.layers import Dense, Dropout, Activation, Flatten, BatchNormalization
from keras.layers import Conv2D, MaxPooling2D
from tensorflow.keras.optimizers import Adam
from tensorflow.keras.callbacks import LearningRateScheduler
from tensorflow.keras.models import Sequential
from tensorflow.keras.layers import Conv2D, MaxPooling2D, Dropout, Flatten, Dense
import cv2
import os

from tensorflow.keras.optimizers import SGD,Adam
from keras.callbacks import ModelCheckpoint, EarlyStopping, ReduceLROnPlateau
import cv2

import matplotlib.pyplot as plt
import tensorflow as tf
from tensorflow.keras.applications import ResNet50,VGG16, InceptionResNetV2
import numpy as np
import itertools


def plot_images(img_dir, top=10):
    all_img_dirs = os.listdir(img_dir)
    print(all_img_dirs)
    img_files = [os.path.join(img_dir, file) for file in all_img_dirs][:5]
    print(img_files)
    plt.figure(figsize=(10, 10))
    for idx, img_path in enumerate(img_files):  #idx-- index          img_path ----- image path
        print(idx)
        print(img_path)
        plt.subplot(5, 5, idx+1)   #5---rows     #5---columns
        img = plt.imread(img_path)  #read the image from an path
        plt.tight_layout()        #it adjust the space b/w one image to another
        plt.axis('off')    #if we pass 'on' parameter they will create the boarder for each image. we pass 'off' parameter they will create the white boarder
        plt.imshow(img, cmap='gray')  #it show the image in black and white

train_dir = "/content/drive/MyDrive/Emotion Detection/train" #passing the path with training images
test_dir = "/content/drive/MyDrive/Emotion Detection/test"  #passing the path with testing images

plot_images(train_dir+ "/angry")
plot_images(train_dir+'/disgust')
plot_images(train_dir+'/fear')
plot_images(train_dir+'/happy')
plot_images(train_dir+'/neutral')
plot_images(train_dir+'/sad')
plot_images(train_dir+'/surprise')


#This Function is used to create the bar-chart for each eah folder images i.e, Angry, digust, sad, surprise, fear, neutral,happy
def plot_bar_chart_diagram(path_data):
  dic={}
  for emotion in  os.listdir(path_data):
    print("Emotion: ",emotion,end=" ")
    dem=0
    for x in os.listdir(path_data+"/"+emotion):
      print("X:",x)
      dem+=1
    dic[emotion]=dem
  print("Dic:",dic)
  barlist=plt.bar(range(len(dic)), list(dic.values()),tick_label=list(dic.keys()))
#set color
  plt.show()

plot_bar_chart_diagram(train_dir)
plot_bar_chart_diagram(test_dir)


augmentation = ImageDataGenerator(rescale = 1./255)
val_datagen = ImageDataGenerator(rescale=1./255)
# Preprocess all train images
data_train = augmentation.flow_from_directory(
        '/content/drive/MyDrive/Emotion Detection/train',
        target_size=(48,48),
        batch_size=64,
        class_mode='categorical',
        color_mode='grayscale')

data_val = val_datagen.flow_from_directory(
        '/content/drive/MyDrive/Emotion Detection/test',
        target_size=(48,48),
        batch_size=64,
        class_mode='categorical',
        color_mode='grayscale')

print(data_val.class_indices)



def ExponentialDecay(lr0, s):
    def exponential_decay(epoch):
        return lr0 * 0.1 ** (epoch / s)
    return LearningRateScheduler(exponential_decay)

#Train the Model
emotion_model = Sequential()
 
emotion_model.add(Conv2D(32, kernel_size=(3, 3), activation='relu', 
                         input_shape=(48, 48, 1)))
emotion_model.add(Conv2D(64, kernel_size=(3, 3), activation='relu'))
emotion_model.add(MaxPooling2D(pool_size=(2, 2)))
emotion_model.add(Dropout(0.25))
 
emotion_model.add(Conv2D(128, kernel_size=(3, 3), activation='relu'))
emotion_model.add(MaxPooling2D(pool_size=(2, 2)))
emotion_model.add(Conv2D(128, kernel_size=(3, 3), activation='relu'))
emotion_model.add(MaxPooling2D(pool_size=(2, 2)))
emotion_model.add(Dropout(0.25))
 
emotion_model.add(Flatten())
emotion_model.add(Dense(1024, activation='relu'))
emotion_model.add(Dropout(0.5))
emotion_model.add(Dense(7, activation='softmax'))
 
emotion_model.summary()
 
cv2.ocl.setUseOpenCL(False)
 
initial_learning_rate = 0.0001
lr_schedule = ExponentialDecay(initial_learning_rate, s=100000)

optimizer = Adam()

emotion_model.compile(loss='categorical_crossentropy', optimizer=optimizer, metrics=['accuracy'])


emotion_model_info = emotion_model.fit_generator(
        data_train,
        steps_per_epoch=287 // 64,
        epochs=30,
        validation_data=data_val,
        validation_steps=7178 // 64)

emotion_model.evaluate(data_val)


accuracy = emotion_model_info.history['accuracy']
val_accuracy = emotion_model_info.history['val_accuracy']
loss = emotion_model_info.history['loss']
val_loss = emotion_model_info.history['val_loss']
print(accuracy)
print(val_accuracy)
print(loss)
print(val_loss)


import matplotlib.pyplot as plt
 
# Accuracy graph
plt.subplot(1, 2, 1)
plt.plot(accuracy, label='accuracy')
plt.plot(val_accuracy, label='val accuracy')
plt.title('Accuracy Graph')
plt.xlabel('Epochs')
plt.ylabel('Accuracy')
plt.legend()
 
# loss graph
plt.subplot(1, 2, 2)
plt.plot(loss, label='loss')
plt.plot(val_loss, label='val loss')
plt.title('Loss Graph')
plt.xlabel('Epochs')
plt.ylabel('Loss')
plt.legend()
 
plt.show()

from tensorflow.keras.models import model_from_json
model_json = emotion_model.to_json()
with open("emotion_model.json", "w") as json_file:
    json_file.write(model_json)
 
# save trained model weight in .h5 file
emotion_model.save_weights('emotion_model.h5')

emotion_dict = {0: "Angry", 1: "Disgusted", 2: "Fearful", 
                3: "Happy", 4: "Neutral", 5: "Sad", 6: "Surprised"}

json_file = open('emotion_model.json', 'r')
loaded_model_json = json_file.read()
json_file.close()
emotion_model = model_from_json(loaded_model_json)
